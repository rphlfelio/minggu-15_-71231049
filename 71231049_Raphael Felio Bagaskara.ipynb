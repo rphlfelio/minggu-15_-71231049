{
 "cells": [
  {
   "cell_type": "code",
   "execution_count": 10,
   "id": "5ea97d5d",
   "metadata": {},
   "outputs": [
    {
     "name": "stdout",
     "output_type": "stream",
     "text": [
      "17-08-1945 00:00:00 berselisih 28780 hari\n",
      "11-11-1785 00:00:00 berselisih 87132 hari\n",
      "08-06-1783 00:00:00 berselisih 88019 hari\n",
      "02-05-1889 00:00:00 berselisih 49340 hari\n"
     ]
    }
   ],
   "source": [
    "#Latihan 14.1\n",
    "import re\n",
    "from datetime import datetime\n",
    "\n",
    "a = datetime.now()\n",
    "date = a.strftime(\"%x\")\n",
    "string = \"\"\"\n",
    "Pada tanggal 1945-08-17 Indonesia merdeka. Indonesia memiliki beberapa pahlawan nasional, \n",
    "seperti Pangeran Diponegoro (TL: 1785-11-11), \n",
    "Pattimura (TL: 1783-06-08) dan KiHajar Dewantara (1889-05-02).\n",
    "\"\"\"\n",
    "tanggal = re.findall(r\"\\d*[-]\\d*[-]\\d*\", string)\n",
    "def selisih(pertama, kedua):\n",
    "    pertama = datetime.strptime(pertama, \"%m/%d/%y\")\n",
    "    kedua = datetime.strptime(kedua, \"%Y-%m-%d\")\n",
    "    return abs((kedua - pertama).days)\n",
    "\n",
    "def balik(tanggal):\n",
    "    tanggal_balik = \"\"\n",
    "    tanggal = re.split(\"-\", tanggal)\n",
    "    for i in range(2,-1,-1):\n",
    "        tanggal_balik += tanggal[i]\n",
    "        tanggal_balik += \"-\"\n",
    "    tanggal_balik = tanggal_balik[:-1]\n",
    "    return tanggal_balik\n",
    "    \n",
    "for i in range(len(tanggal)):\n",
    "    print(f\"{balik(tanggal[i])} 00:00:00 berselisih {selisih(date, tanggal[i])} hari\")"
   ]
  },
  {
   "cell_type": "code",
   "execution_count": 9,
   "id": "fdaff261",
   "metadata": {},
   "outputs": [
    {
     "name": "stdout",
     "output_type": "stream",
     "text": [
      "anton@mail.com username: anton, password: NJnpnTUq \n",
      "budi@gmail.co.id username: budi, password: yivwylKS \n",
      "slamet@getnada.com username: slamet, password: oFGtvuEI \n",
      "matahari@tokopedia.com username: matahari, password: WYFE0sHJ \n"
     ]
    }
   ],
   "source": [
    "# Latihan 14.2\n",
    "import re\n",
    "import random\n",
    "import string\n",
    "\n",
    "all_characters = string.ascii_letters + string.digits\n",
    "with open(\"contoh.txt\", \"r\") as email:\n",
    "    string = email.read()\n",
    "\n",
    "emails = re.findall(r\"[a-zA-Z0-9.]+@[a-zA-Z0-9.]+\\.[a-zA-Z]{2,}\", string)\n",
    "\n",
    "def cari_pass():\n",
    "    password = ''.join(random.choices(all_characters, k=8))\n",
    "    return password\n",
    "\n",
    "def cari_username(email):\n",
    "    username = re.split(\"@\", email)[0]\n",
    "    return username\n",
    "\n",
    "\n",
    "for i in range(len(emails)):\n",
    "    print(f\"{emails[i]} username: {cari_username(emails[i])}, password: {cari_pass()} \")"
   ]
  },
  {
   "cell_type": "code",
   "execution_count": null,
   "id": "3ad8a785",
   "metadata": {},
   "outputs": [],
   "source": []
  }
 ],
 "metadata": {
  "kernelspec": {
   "display_name": "Python 3 (ipykernel)",
   "language": "python",
   "name": "python3"
  },
  "language_info": {
   "codemirror_mode": {
    "name": "ipython",
    "version": 3
   },
   "file_extension": ".py",
   "mimetype": "text/x-python",
   "name": "python",
   "nbconvert_exporter": "python",
   "pygments_lexer": "ipython3",
   "version": "3.11.5"
  }
 },
 "nbformat": 4,
 "nbformat_minor": 5
}
